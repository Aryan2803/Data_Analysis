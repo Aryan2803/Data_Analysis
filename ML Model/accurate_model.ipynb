{
 "cells": [
  {
   "cell_type": "code",
   "execution_count": 20,
   "metadata": {},
   "outputs": [],
   "source": [
    "import pandas as pd\n",
    "from sklearn.model_selection import train_test_split\n",
    "from sklearn.ensemble import RandomForestClassifier\n",
    "from sklearn.feature_selection import SelectKBest, chi2, RFE\n",
    "from sklearn.preprocessing import StandardScaler, MinMaxScaler\n",
    "from sklearn.metrics import accuracy_score"
   ]
  },
  {
   "cell_type": "code",
   "execution_count": 21,
   "metadata": {},
   "outputs": [],
   "source": [
    "data = pd.read_csv('breast_cancer_data.csv')\n",
    "\n",
    "X = data.drop(columns=['id', 'diagnosis'])\n",
    "y = data['diagnosis']\n",
    "\n",
    "y = y.map({'M': 1, 'B': 0})"
   ]
  },
  {
   "cell_type": "code",
   "execution_count": 22,
   "metadata": {},
   "outputs": [],
   "source": [
    "# Standardizing\n",
    "scaler = StandardScaler()\n",
    "X_scaled = scaler.fit_transform(X)\n",
    "\n",
    "# MinMaxScaler for non-negative features\n",
    "min_max_scaler = MinMaxScaler()\n",
    "X_min_max = min_max_scaler.fit_transform(X)"
   ]
  },
  {
   "cell_type": "code",
   "execution_count": 23,
   "metadata": {},
   "outputs": [],
   "source": [
    "# 1.Filter Method (Chi-Square Test)\n",
    "filter_selector = SelectKBest(chi2, k=10)\n",
    "X_filter = filter_selector.fit_transform(X_min_max, y)\n",
    "\n",
    "# 2.Wrapper Method (Recursive Feature Elimination)\n",
    "rf_model = RandomForestClassifier(n_estimators=100, random_state=42)\n",
    "rfe_selector = RFE(rf_model, n_features_to_select=10)\n",
    "X_rfe = rfe_selector.fit_transform(X_scaled, y)\n",
    "\n",
    "# 3.Embedded Method (Random Forest Feature Importance)\n",
    "rf_model.fit(X_scaled, y)\n",
    "importances = rf_model.feature_importances_\n",
    "selected_features = [i for i, x in enumerate(importances) if x > 0.05]\n",
    "X_embedded = X_scaled[:, selected_features]"
   ]
  },
  {
   "cell_type": "code",
   "execution_count": 24,
   "metadata": {},
   "outputs": [],
   "source": [
    "# Split data for train/test\n",
    "X_train_filter, X_test_filter, y_train, y_test = train_test_split(X_filter, y, test_size=0.2, random_state=42)\n",
    "X_train_rfe, X_test_rfe = train_test_split(X_rfe, test_size=0.2, random_state=42)\n",
    "X_train_embedded, X_test_embedded = train_test_split(X_embedded, test_size=0.2, random_state=42)\n",
    "\n",
    "# Train Random Forest model on Filtered Features\n",
    "model_filter = RandomForestClassifier(n_estimators=100, random_state=42)\n",
    "model_filter.fit(X_train_filter, y_train)\n",
    "y_pred_filter = model_filter.predict(X_test_filter)\n",
    "accuracy_filter = accuracy_score(y_test, y_pred_filter)\n",
    "\n",
    "# Train Random Forest model on RFE Features\n",
    "model_rfe = RandomForestClassifier(n_estimators=100, random_state=42)\n",
    "model_rfe.fit(X_train_rfe, y_train)\n",
    "y_pred_rfe = model_rfe.predict(X_test_rfe)\n",
    "accuracy_rfe = accuracy_score(y_test, y_pred_rfe)\n",
    "\n",
    "# Train Random Forest model on Embedded Features\n",
    "model_embedded = RandomForestClassifier(n_estimators=100, random_state=42)\n",
    "model_embedded.fit(X_train_embedded, y_train)\n",
    "y_pred_embedded = model_embedded.predict(X_test_embedded)\n",
    "accuracy_embedded = accuracy_score(y_test, y_pred_embedded)"
   ]
  },
  {
   "cell_type": "code",
   "execution_count": null,
   "metadata": {},
   "outputs": [
    {
     "name": "stdout",
     "output_type": "stream",
     "text": [
      "Accuracy with Filter Method (Chi-Square): 95.61%\n",
      "Accuracy with Wrapper Method (RFE): 95.61%\n",
      "Accuracy with Embedded Method (Random Forest): 95.61%\n",
      "Filter Method (Chi-Square) provided the highest accuracy.\n"
     ]
    }
   ],
   "source": [
    "# Displaying all three acuracy\n",
    "print(f\"Accuracy with Filter Method (Chi-Square): {accuracy_filter * 100:.2f}%\")\n",
    "print(f\"Accuracy with Wrapper Method (RFE): {accuracy_rfe * 100:.2f}%\")\n",
    "print(f\"Accuracy with Embedded Method (Random Forest): {accuracy_embedded * 100:.2f}%\")\n",
    "\n",
    "# Display highest accuracy method\n",
    "best_method = max(accuracy_filter, accuracy_rfe, accuracy_embedded)\n",
    "if best_method == accuracy_filter:\n",
    "    print(\"Filter Method (Chi-Square) provided the highest accuracy.\")\n",
    "elif best_method == accuracy_rfe:\n",
    "    print(\"Wrapper Method (RFE) provided the highest accuracy.\")\n",
    "else:\n",
    "    print(\"Embedded Method (Random Forest) provided the highest accuracy.\")"
   ]
  }
 ],
 "metadata": {
  "kernelspec": {
   "display_name": "Python 3",
   "language": "python",
   "name": "python3"
  },
  "language_info": {
   "codemirror_mode": {
    "name": "ipython",
    "version": 3
   },
   "file_extension": ".py",
   "mimetype": "text/x-python",
   "name": "python",
   "nbconvert_exporter": "python",
   "pygments_lexer": "ipython3",
   "version": "3.11.2"
  }
 },
 "nbformat": 4,
 "nbformat_minor": 2
}
